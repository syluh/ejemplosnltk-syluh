{
 "cells": [
  {
   "cell_type": "code",
   "execution_count": 48,
   "id": "dc1e9ef7",
   "metadata": {},
   "outputs": [
    {
     "name": "stderr",
     "output_type": "stream",
     "text": [
      "[nltk_data] Downloading package maxent_ne_chunker to\n",
      "[nltk_data]     /home/syluh/nltk_data...\n",
      "[nltk_data]   Package maxent_ne_chunker is already up-to-date!\n",
      "[nltk_data] Downloading package words to /home/syluh/nltk_data...\n",
      "[nltk_data]   Package words is already up-to-date!\n"
     ]
    }
   ],
   "source": [
    "import nltk\n",
    "nltk.download('maxent_ne_chunker')\n",
    "nltk.download('words')\n",
    "from nltk.corpus import treebank\n"
   ]
  },
  {
   "cell_type": "code",
   "execution_count": null,
   "id": "6a36cb18",
   "metadata": {},
   "outputs": [],
   "source": [
    "# Transformar a token una oraciòn "
   ]
  },
  {
   "cell_type": "code",
   "execution_count": 10,
   "id": "1096fe76",
   "metadata": {},
   "outputs": [],
   "source": [
    "oracion = \"\"\"Hoy jueves estoy probando los tokens con la libreria NLTK\"\"\""
   ]
  },
  {
   "cell_type": "code",
   "execution_count": 11,
   "id": "120a63bd",
   "metadata": {},
   "outputs": [],
   "source": [
    "tokens = nltk.word_tokenize(oracion)"
   ]
  },
  {
   "cell_type": "code",
   "execution_count": 12,
   "id": "5cdcdb93",
   "metadata": {},
   "outputs": [
    {
     "data": {
      "text/plain": [
       "['Hoy',\n",
       " 'jueves',\n",
       " 'estoy',\n",
       " 'probando',\n",
       " 'los',\n",
       " 'tokens',\n",
       " 'con',\n",
       " 'la',\n",
       " 'libreria',\n",
       " 'NLTK']"
      ]
     },
     "execution_count": 12,
     "metadata": {},
     "output_type": "execute_result"
    }
   ],
   "source": [
    "tokens"
   ]
  },
  {
   "cell_type": "code",
   "execution_count": 13,
   "id": "b547475c",
   "metadata": {},
   "outputs": [],
   "source": [
    "tagged = nltk.pos_tag(tokens)"
   ]
  },
  {
   "cell_type": "code",
   "execution_count": 14,
   "id": "f0529be2",
   "metadata": {},
   "outputs": [
    {
     "data": {
      "text/plain": [
       "[('Hoy', 'NNP'),\n",
       " ('jueves', 'VBZ'),\n",
       " ('estoy', 'FW'),\n",
       " ('probando', 'JJ'),\n",
       " ('los', 'NN'),\n",
       " ('tokens', 'NNS')]"
      ]
     },
     "execution_count": 14,
     "metadata": {},
     "output_type": "execute_result"
    }
   ],
   "source": [
    "tagged[0:6]"
   ]
  },
  {
   "cell_type": "code",
   "execution_count": 15,
   "id": "3acc7f6e",
   "metadata": {},
   "outputs": [],
   "source": [
    "# NTK Trees"
   ]
  },
  {
   "cell_type": "code",
   "execution_count": 54,
   "id": "ad74c13f",
   "metadata": {},
   "outputs": [],
   "source": [
    "from nltk.tree import *"
   ]
  },
  {
   "cell_type": "code",
   "execution_count": 56,
   "id": "0cf99189",
   "metadata": {},
   "outputs": [
    {
     "name": "stdout",
     "output_type": "stream",
     "text": [
      "(s (dp (d the) (np dog)) (vp (v chased) (dp (d the) (np cat))))\n"
     ]
    }
   ],
   "source": [
    "dp1 = Tree('dp', [Tree('d', ['the']), Tree('np', ['dog'])])\n",
    "dp2 = Tree('dp', [Tree('d', ['the']), Tree('np', ['cat'])])\n",
    "vp = Tree('vp', [Tree('v', ['chased']), dp2])\n",
    "tree = Tree('s', [dp1, vp])\n",
    "print(tree)"
   ]
  },
  {
   "cell_type": "code",
   "execution_count": 57,
   "id": "1655fff7",
   "metadata": {},
   "outputs": [
    {
     "data": {
      "text/plain": [
       "('dp', 'dp', 'vp', 's')"
      ]
     },
     "execution_count": 57,
     "metadata": {},
     "output_type": "execute_result"
    }
   ],
   "source": [
    "dp1.label(), dp2.label(), vp.label(), tree.label()"
   ]
  },
  {
   "cell_type": "code",
   "execution_count": 58,
   "id": "3edae73d",
   "metadata": {},
   "outputs": [
    {
     "name": "stdout",
     "output_type": "stream",
     "text": [
      "cat\n"
     ]
    }
   ],
   "source": [
    "print(tree[1,1,1,0])"
   ]
  },
  {
   "cell_type": "code",
   "execution_count": 59,
   "id": "863557d2",
   "metadata": {},
   "outputs": [
    {
     "name": "stdout",
     "output_type": "stream",
     "text": [
      "[(), (0,), (0, 0), (0, 0, 0), (0, 1), (0, 1, 0), (1,), (1, 0), (1, 0, 0), (1, 1), (1, 1, 0), (1, 1, 0, 0), (1, 1, 1), (1, 1, 1, 0)]\n"
     ]
    }
   ],
   "source": [
    "print(tree.treepositions())"
   ]
  },
  {
   "cell_type": "code",
   "execution_count": 60,
   "id": "9c295a53",
   "metadata": {},
   "outputs": [
    {
     "name": "stdout",
     "output_type": "stream",
     "text": [
      "\\Tree [.s\n",
      "        [.dp [.d the ] [.np dog ] ]\n",
      "        [.vp [.v chased ] [.dp [.d the ] [.np cat ] ] ] ]\n"
     ]
    }
   ],
   "source": [
    "print(tree.pformat_latex_qtree())"
   ]
  },
  {
   "cell_type": "code",
   "execution_count": 61,
   "id": "c731ef66",
   "metadata": {},
   "outputs": [
    {
     "name": "stdout",
     "output_type": "stream",
     "text": [
      "              s               \n",
      "      ________|_____           \n",
      "     |              vp        \n",
      "     |         _____|___       \n",
      "     dp       |         dp    \n",
      "  ___|___     |      ___|___   \n",
      " d       np   v     d       np\n",
      " |       |    |     |       |  \n",
      "the     dog chased the     cat\n",
      "\n"
     ]
    }
   ],
   "source": [
    "tree.pretty_print()"
   ]
  },
  {
   "cell_type": "code",
   "execution_count": 62,
   "id": "2048c3d1",
   "metadata": {},
   "outputs": [
    {
     "name": "stdout",
     "output_type": "stream",
     "text": [
      "                       s                        \n",
      "        ┌──────────────┴────────┐                   \n",
      "        │                       vp              \n",
      "        │              ┌────────┴──────┐            \n",
      "        dp             │               dp       \n",
      " ┌──────┴──────┐       │        ┌──────┴──────┐     \n",
      " d             np      v        d             np\n",
      " │             │       │        │             │     \n",
      "the           dog    chased    the           cat\n",
      "\n"
     ]
    }
   ],
   "source": [
    "tree.pretty_print(unicodelines=True, nodedist=4)"
   ]
  },
  {
   "cell_type": "code",
   "execution_count": 63,
   "id": "fc558fa7",
   "metadata": {},
   "outputs": [],
   "source": [
    "#Colecciones"
   ]
  },
  {
   "cell_type": "code",
   "execution_count": 65,
   "id": "86451eab",
   "metadata": {},
   "outputs": [],
   "source": [
    "import nltk\n",
    "from nltk.collections import *\n",
    "import pickle"
   ]
  },
  {
   "cell_type": "code",
   "execution_count": 66,
   "id": "925bdfd9",
   "metadata": {},
   "outputs": [
    {
     "data": {
      "text/plain": [
       "{'a': {True: None}}"
      ]
     },
     "execution_count": 66,
     "metadata": {},
     "output_type": "execute_result"
    }
   ],
   "source": [
    "trie = nltk.collections.Trie(['a'])\n",
    "s = pickle.dumps(trie)\n",
    "pickle.loads(s)"
   ]
  },
  {
   "cell_type": "code",
   "execution_count": null,
   "id": "306c5b89",
   "metadata": {},
   "outputs": [],
   "source": []
  },
  {
   "cell_type": "code",
   "execution_count": null,
   "id": "8bfe75d4",
   "metadata": {},
   "outputs": [],
   "source": []
  }
 ],
 "metadata": {
  "kernelspec": {
   "display_name": "Python 3 (ipykernel)",
   "language": "python",
   "name": "python3"
  },
  "language_info": {
   "codemirror_mode": {
    "name": "ipython",
    "version": 3
   },
   "file_extension": ".py",
   "mimetype": "text/x-python",
   "name": "python",
   "nbconvert_exporter": "python",
   "pygments_lexer": "ipython3",
   "version": "3.10.4"
  }
 },
 "nbformat": 4,
 "nbformat_minor": 5
}
